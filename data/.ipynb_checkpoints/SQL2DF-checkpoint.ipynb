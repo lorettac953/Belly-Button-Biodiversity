{
 "cells": [
  {
   "cell_type": "code",
   "execution_count": 1,
   "metadata": {},
   "outputs": [
    {
     "data": {
      "text/plain": [
       "sqlalchemy.engine.base.Engine"
      ]
     },
     "execution_count": 1,
     "metadata": {},
     "output_type": "execute_result"
    }
   ],
   "source": [
    "\n",
    "# this sheet to use a user def function to convert SQLlite to DF \n",
    "# Pandas funtions can be used as well\n",
    "# but this can be used to output DF query to DFs \n",
    "\n",
    "# Create an engine for the `*.sqlite` database\n",
    "from sqlalchemy import create_engine\n",
    "engine = create_engine(\"sqlite:///belly_button_biodiversity.sqlite\") # a DataBase file in this case should be in the same dir\n",
    "type(engine) # QC step"
   ]
  },
  {
   "cell_type": "code",
   "execution_count": 6,
   "metadata": {},
   "outputs": [],
   "source": [
    "# Use the Inspector to explore the database and print the table names\n",
    "from sqlalchemy import inspect # \n",
    "\n",
    "inspector = inspect(engine) # make inpector using the engine \n",
    "db_tables=inspector.get_table_names() # from inspector get table names\n"
   ]
  },
  {
   "cell_type": "code",
   "execution_count": 7,
   "metadata": {},
   "outputs": [],
   "source": [
    "def SQL2df(table):\n",
    "    import pandas as pd\n",
    "    df = pd.DataFrame(engine.execute('SELECT * FROM ' + table).fetchall())\n",
    "    print('SELECT * FROM ' + table)\n",
    "    cols = inspector.get_columns(table)\n",
    "    table_cols= [c['name'] for c in cols]\n",
    "    df.columns = table_cols\n",
    "    df.to_csv(table+'.csv', index=False)\n",
    "    return(df)"
   ]
  },
  {
   "cell_type": "code",
   "execution_count": 8,
   "metadata": {},
   "outputs": [],
   "source": [
    "for table in db_tables:\n",
    "    SQL2df(table)"
   ]
  },
  {
   "cell_type": "code",
   "execution_count": null,
   "metadata": {},
   "outputs": [],
   "source": []
  },
  {
   "cell_type": "code",
   "execution_count": null,
   "metadata": {},
   "outputs": [],
   "source": []
  },
  {
   "cell_type": "code",
   "execution_count": null,
   "metadata": {},
   "outputs": [],
   "source": []
  },
  {
   "cell_type": "code",
   "execution_count": null,
   "metadata": {},
   "outputs": [],
   "source": []
  },
  {
   "cell_type": "code",
   "execution_count": null,
   "metadata": {},
   "outputs": [],
   "source": []
  },
  {
   "cell_type": "code",
   "execution_count": null,
   "metadata": {},
   "outputs": [],
   "source": []
  },
  {
   "cell_type": "code",
   "execution_count": null,
   "metadata": {},
   "outputs": [],
   "source": []
  }
 ],
 "metadata": {
  "kernelspec": {
   "display_name": "Python 3",
   "language": "python",
   "name": "python3"
  },
  "language_info": {
   "codemirror_mode": {
    "name": "ipython",
    "version": 3
   },
   "file_extension": ".py",
   "mimetype": "text/x-python",
   "name": "python",
   "nbconvert_exporter": "python",
   "pygments_lexer": "ipython3",
   "version": "3.7.4"
  }
 },
 "nbformat": 4,
 "nbformat_minor": 2
}
